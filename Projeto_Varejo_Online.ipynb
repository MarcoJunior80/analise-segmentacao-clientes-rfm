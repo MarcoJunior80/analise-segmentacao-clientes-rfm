{
 "cells": [
  {
   "metadata": {
    "ExecuteTime": {
     "end_time": "2025-10-18T11:44:05.188259Z",
     "start_time": "2025-10-18T11:43:05.374773Z"
    }
   },
   "cell_type": "code",
   "source": [
    "import pandas as pd\n",
    "import numpy as np\n",
    "import openpyxl\n",
    "import matplotlib.pyplot as plt\n",
    "import seaborn as sns\n",
    "from pandas.conftest import axis_1\n",
    "\n",
    "dados = pd.read_excel(r\"C:\\Users\\marco\\PycharmProjects\\Projeto_Varejo_Online\\Online Retail.xlsx\")\n",
    "\n",
    "pd.set_option('display.max_rows', None)\n",
    "pd.set_option('display.max_columns', None) # para mostrar todas as colunas\n",
    "pd.set_option('display.width', None)\n",
    "pd.set_option('display.max_colwidth', None)\n"
   ],
   "id": "fbc121e30a2defb3",
   "outputs": [],
   "execution_count": 5
  },
  {
   "metadata": {},
   "cell_type": "markdown",
   "source": "## **Visualizando os dados**",
   "id": "3f85b1b9d407d0a2"
  },
  {
   "metadata": {
    "ExecuteTime": {
     "end_time": "2025-10-18T11:44:05.338223Z",
     "start_time": "2025-10-18T11:44:05.235588Z"
    }
   },
   "cell_type": "code",
   "source": "dados.head(20)",
   "id": "946ac981098f41e7",
   "outputs": [
    {
     "data": {
      "text/plain": [
       "   InvoiceNo StockCode                          Description  Quantity  \\\n",
       "0     536365    85123A   WHITE HANGING HEART T-LIGHT HOLDER         6   \n",
       "1     536365     71053                  WHITE METAL LANTERN         6   \n",
       "2     536365    84406B       CREAM CUPID HEARTS COAT HANGER         8   \n",
       "3     536365    84029G  KNITTED UNION FLAG HOT WATER BOTTLE         6   \n",
       "4     536365    84029E       RED WOOLLY HOTTIE WHITE HEART.         6   \n",
       "5     536365     22752         SET 7 BABUSHKA NESTING BOXES         2   \n",
       "6     536365     21730    GLASS STAR FROSTED T-LIGHT HOLDER         6   \n",
       "7     536366     22633               HAND WARMER UNION JACK         6   \n",
       "8     536366     22632            HAND WARMER RED POLKA DOT         6   \n",
       "9     536367     84879        ASSORTED COLOUR BIRD ORNAMENT        32   \n",
       "10    536367     22745           POPPY'S PLAYHOUSE BEDROOM          6   \n",
       "11    536367     22748            POPPY'S PLAYHOUSE KITCHEN         6   \n",
       "12    536367     22749    FELTCRAFT PRINCESS CHARLOTTE DOLL         8   \n",
       "13    536367     22310              IVORY KNITTED MUG COSY          6   \n",
       "14    536367     84969   BOX OF 6 ASSORTED COLOUR TEASPOONS         6   \n",
       "15    536367     22623        BOX OF VINTAGE JIGSAW BLOCKS          3   \n",
       "16    536367     22622       BOX OF VINTAGE ALPHABET BLOCKS         2   \n",
       "17    536367     21754             HOME BUILDING BLOCK WORD         3   \n",
       "18    536367     21755             LOVE BUILDING BLOCK WORD         3   \n",
       "19    536367     21777          RECIPE BOX WITH METAL HEART         4   \n",
       "\n",
       "           InvoiceDate  UnitPrice  CustomerID         Country  \n",
       "0  2010-12-01 08:26:00       2.55     17850.0  United Kingdom  \n",
       "1  2010-12-01 08:26:00       3.39     17850.0  United Kingdom  \n",
       "2  2010-12-01 08:26:00       2.75     17850.0  United Kingdom  \n",
       "3  2010-12-01 08:26:00       3.39     17850.0  United Kingdom  \n",
       "4  2010-12-01 08:26:00       3.39     17850.0  United Kingdom  \n",
       "5  2010-12-01 08:26:00       7.65     17850.0  United Kingdom  \n",
       "6  2010-12-01 08:26:00       4.25     17850.0  United Kingdom  \n",
       "7  2010-12-01 08:28:00       1.85     17850.0  United Kingdom  \n",
       "8  2010-12-01 08:28:00       1.85     17850.0  United Kingdom  \n",
       "9  2010-12-01 08:34:00       1.69     13047.0  United Kingdom  \n",
       "10 2010-12-01 08:34:00       2.10     13047.0  United Kingdom  \n",
       "11 2010-12-01 08:34:00       2.10     13047.0  United Kingdom  \n",
       "12 2010-12-01 08:34:00       3.75     13047.0  United Kingdom  \n",
       "13 2010-12-01 08:34:00       1.65     13047.0  United Kingdom  \n",
       "14 2010-12-01 08:34:00       4.25     13047.0  United Kingdom  \n",
       "15 2010-12-01 08:34:00       4.95     13047.0  United Kingdom  \n",
       "16 2010-12-01 08:34:00       9.95     13047.0  United Kingdom  \n",
       "17 2010-12-01 08:34:00       5.95     13047.0  United Kingdom  \n",
       "18 2010-12-01 08:34:00       5.95     13047.0  United Kingdom  \n",
       "19 2010-12-01 08:34:00       7.95     13047.0  United Kingdom  "
      ],
      "text/html": [
       "<div>\n",
       "<style scoped>\n",
       "    .dataframe tbody tr th:only-of-type {\n",
       "        vertical-align: middle;\n",
       "    }\n",
       "\n",
       "    .dataframe tbody tr th {\n",
       "        vertical-align: top;\n",
       "    }\n",
       "\n",
       "    .dataframe thead th {\n",
       "        text-align: right;\n",
       "    }\n",
       "</style>\n",
       "<table border=\"1\" class=\"dataframe\">\n",
       "  <thead>\n",
       "    <tr style=\"text-align: right;\">\n",
       "      <th></th>\n",
       "      <th>InvoiceNo</th>\n",
       "      <th>StockCode</th>\n",
       "      <th>Description</th>\n",
       "      <th>Quantity</th>\n",
       "      <th>InvoiceDate</th>\n",
       "      <th>UnitPrice</th>\n",
       "      <th>CustomerID</th>\n",
       "      <th>Country</th>\n",
       "    </tr>\n",
       "  </thead>\n",
       "  <tbody>\n",
       "    <tr>\n",
       "      <th>0</th>\n",
       "      <td>536365</td>\n",
       "      <td>85123A</td>\n",
       "      <td>WHITE HANGING HEART T-LIGHT HOLDER</td>\n",
       "      <td>6</td>\n",
       "      <td>2010-12-01 08:26:00</td>\n",
       "      <td>2.55</td>\n",
       "      <td>17850.0</td>\n",
       "      <td>United Kingdom</td>\n",
       "    </tr>\n",
       "    <tr>\n",
       "      <th>1</th>\n",
       "      <td>536365</td>\n",
       "      <td>71053</td>\n",
       "      <td>WHITE METAL LANTERN</td>\n",
       "      <td>6</td>\n",
       "      <td>2010-12-01 08:26:00</td>\n",
       "      <td>3.39</td>\n",
       "      <td>17850.0</td>\n",
       "      <td>United Kingdom</td>\n",
       "    </tr>\n",
       "    <tr>\n",
       "      <th>2</th>\n",
       "      <td>536365</td>\n",
       "      <td>84406B</td>\n",
       "      <td>CREAM CUPID HEARTS COAT HANGER</td>\n",
       "      <td>8</td>\n",
       "      <td>2010-12-01 08:26:00</td>\n",
       "      <td>2.75</td>\n",
       "      <td>17850.0</td>\n",
       "      <td>United Kingdom</td>\n",
       "    </tr>\n",
       "    <tr>\n",
       "      <th>3</th>\n",
       "      <td>536365</td>\n",
       "      <td>84029G</td>\n",
       "      <td>KNITTED UNION FLAG HOT WATER BOTTLE</td>\n",
       "      <td>6</td>\n",
       "      <td>2010-12-01 08:26:00</td>\n",
       "      <td>3.39</td>\n",
       "      <td>17850.0</td>\n",
       "      <td>United Kingdom</td>\n",
       "    </tr>\n",
       "    <tr>\n",
       "      <th>4</th>\n",
       "      <td>536365</td>\n",
       "      <td>84029E</td>\n",
       "      <td>RED WOOLLY HOTTIE WHITE HEART.</td>\n",
       "      <td>6</td>\n",
       "      <td>2010-12-01 08:26:00</td>\n",
       "      <td>3.39</td>\n",
       "      <td>17850.0</td>\n",
       "      <td>United Kingdom</td>\n",
       "    </tr>\n",
       "    <tr>\n",
       "      <th>5</th>\n",
       "      <td>536365</td>\n",
       "      <td>22752</td>\n",
       "      <td>SET 7 BABUSHKA NESTING BOXES</td>\n",
       "      <td>2</td>\n",
       "      <td>2010-12-01 08:26:00</td>\n",
       "      <td>7.65</td>\n",
       "      <td>17850.0</td>\n",
       "      <td>United Kingdom</td>\n",
       "    </tr>\n",
       "    <tr>\n",
       "      <th>6</th>\n",
       "      <td>536365</td>\n",
       "      <td>21730</td>\n",
       "      <td>GLASS STAR FROSTED T-LIGHT HOLDER</td>\n",
       "      <td>6</td>\n",
       "      <td>2010-12-01 08:26:00</td>\n",
       "      <td>4.25</td>\n",
       "      <td>17850.0</td>\n",
       "      <td>United Kingdom</td>\n",
       "    </tr>\n",
       "    <tr>\n",
       "      <th>7</th>\n",
       "      <td>536366</td>\n",
       "      <td>22633</td>\n",
       "      <td>HAND WARMER UNION JACK</td>\n",
       "      <td>6</td>\n",
       "      <td>2010-12-01 08:28:00</td>\n",
       "      <td>1.85</td>\n",
       "      <td>17850.0</td>\n",
       "      <td>United Kingdom</td>\n",
       "    </tr>\n",
       "    <tr>\n",
       "      <th>8</th>\n",
       "      <td>536366</td>\n",
       "      <td>22632</td>\n",
       "      <td>HAND WARMER RED POLKA DOT</td>\n",
       "      <td>6</td>\n",
       "      <td>2010-12-01 08:28:00</td>\n",
       "      <td>1.85</td>\n",
       "      <td>17850.0</td>\n",
       "      <td>United Kingdom</td>\n",
       "    </tr>\n",
       "    <tr>\n",
       "      <th>9</th>\n",
       "      <td>536367</td>\n",
       "      <td>84879</td>\n",
       "      <td>ASSORTED COLOUR BIRD ORNAMENT</td>\n",
       "      <td>32</td>\n",
       "      <td>2010-12-01 08:34:00</td>\n",
       "      <td>1.69</td>\n",
       "      <td>13047.0</td>\n",
       "      <td>United Kingdom</td>\n",
       "    </tr>\n",
       "    <tr>\n",
       "      <th>10</th>\n",
       "      <td>536367</td>\n",
       "      <td>22745</td>\n",
       "      <td>POPPY'S PLAYHOUSE BEDROOM</td>\n",
       "      <td>6</td>\n",
       "      <td>2010-12-01 08:34:00</td>\n",
       "      <td>2.10</td>\n",
       "      <td>13047.0</td>\n",
       "      <td>United Kingdom</td>\n",
       "    </tr>\n",
       "    <tr>\n",
       "      <th>11</th>\n",
       "      <td>536367</td>\n",
       "      <td>22748</td>\n",
       "      <td>POPPY'S PLAYHOUSE KITCHEN</td>\n",
       "      <td>6</td>\n",
       "      <td>2010-12-01 08:34:00</td>\n",
       "      <td>2.10</td>\n",
       "      <td>13047.0</td>\n",
       "      <td>United Kingdom</td>\n",
       "    </tr>\n",
       "    <tr>\n",
       "      <th>12</th>\n",
       "      <td>536367</td>\n",
       "      <td>22749</td>\n",
       "      <td>FELTCRAFT PRINCESS CHARLOTTE DOLL</td>\n",
       "      <td>8</td>\n",
       "      <td>2010-12-01 08:34:00</td>\n",
       "      <td>3.75</td>\n",
       "      <td>13047.0</td>\n",
       "      <td>United Kingdom</td>\n",
       "    </tr>\n",
       "    <tr>\n",
       "      <th>13</th>\n",
       "      <td>536367</td>\n",
       "      <td>22310</td>\n",
       "      <td>IVORY KNITTED MUG COSY</td>\n",
       "      <td>6</td>\n",
       "      <td>2010-12-01 08:34:00</td>\n",
       "      <td>1.65</td>\n",
       "      <td>13047.0</td>\n",
       "      <td>United Kingdom</td>\n",
       "    </tr>\n",
       "    <tr>\n",
       "      <th>14</th>\n",
       "      <td>536367</td>\n",
       "      <td>84969</td>\n",
       "      <td>BOX OF 6 ASSORTED COLOUR TEASPOONS</td>\n",
       "      <td>6</td>\n",
       "      <td>2010-12-01 08:34:00</td>\n",
       "      <td>4.25</td>\n",
       "      <td>13047.0</td>\n",
       "      <td>United Kingdom</td>\n",
       "    </tr>\n",
       "    <tr>\n",
       "      <th>15</th>\n",
       "      <td>536367</td>\n",
       "      <td>22623</td>\n",
       "      <td>BOX OF VINTAGE JIGSAW BLOCKS</td>\n",
       "      <td>3</td>\n",
       "      <td>2010-12-01 08:34:00</td>\n",
       "      <td>4.95</td>\n",
       "      <td>13047.0</td>\n",
       "      <td>United Kingdom</td>\n",
       "    </tr>\n",
       "    <tr>\n",
       "      <th>16</th>\n",
       "      <td>536367</td>\n",
       "      <td>22622</td>\n",
       "      <td>BOX OF VINTAGE ALPHABET BLOCKS</td>\n",
       "      <td>2</td>\n",
       "      <td>2010-12-01 08:34:00</td>\n",
       "      <td>9.95</td>\n",
       "      <td>13047.0</td>\n",
       "      <td>United Kingdom</td>\n",
       "    </tr>\n",
       "    <tr>\n",
       "      <th>17</th>\n",
       "      <td>536367</td>\n",
       "      <td>21754</td>\n",
       "      <td>HOME BUILDING BLOCK WORD</td>\n",
       "      <td>3</td>\n",
       "      <td>2010-12-01 08:34:00</td>\n",
       "      <td>5.95</td>\n",
       "      <td>13047.0</td>\n",
       "      <td>United Kingdom</td>\n",
       "    </tr>\n",
       "    <tr>\n",
       "      <th>18</th>\n",
       "      <td>536367</td>\n",
       "      <td>21755</td>\n",
       "      <td>LOVE BUILDING BLOCK WORD</td>\n",
       "      <td>3</td>\n",
       "      <td>2010-12-01 08:34:00</td>\n",
       "      <td>5.95</td>\n",
       "      <td>13047.0</td>\n",
       "      <td>United Kingdom</td>\n",
       "    </tr>\n",
       "    <tr>\n",
       "      <th>19</th>\n",
       "      <td>536367</td>\n",
       "      <td>21777</td>\n",
       "      <td>RECIPE BOX WITH METAL HEART</td>\n",
       "      <td>4</td>\n",
       "      <td>2010-12-01 08:34:00</td>\n",
       "      <td>7.95</td>\n",
       "      <td>13047.0</td>\n",
       "      <td>United Kingdom</td>\n",
       "    </tr>\n",
       "  </tbody>\n",
       "</table>\n",
       "</div>"
      ]
     },
     "execution_count": 6,
     "metadata": {},
     "output_type": "execute_result"
    }
   ],
   "execution_count": 6
  },
  {
   "metadata": {
    "ExecuteTime": {
     "end_time": "2025-10-18T11:44:05.474681Z",
     "start_time": "2025-10-18T11:44:05.461061Z"
    }
   },
   "cell_type": "code",
   "source": "dados.tail()",
   "id": "95035e7e7af89e0f",
   "outputs": [
    {
     "data": {
      "text/plain": [
       "       InvoiceNo StockCode                      Description  Quantity  \\\n",
       "541904    581587     22613      PACK OF 20 SPACEBOY NAPKINS        12   \n",
       "541905    581587     22899     CHILDREN'S APRON DOLLY GIRL          6   \n",
       "541906    581587     23254    CHILDRENS CUTLERY DOLLY GIRL          4   \n",
       "541907    581587     23255  CHILDRENS CUTLERY CIRCUS PARADE         4   \n",
       "541908    581587     22138    BAKING SET 9 PIECE RETROSPOT          3   \n",
       "\n",
       "               InvoiceDate  UnitPrice  CustomerID Country  \n",
       "541904 2011-12-09 12:50:00       0.85     12680.0  France  \n",
       "541905 2011-12-09 12:50:00       2.10     12680.0  France  \n",
       "541906 2011-12-09 12:50:00       4.15     12680.0  France  \n",
       "541907 2011-12-09 12:50:00       4.15     12680.0  France  \n",
       "541908 2011-12-09 12:50:00       4.95     12680.0  France  "
      ],
      "text/html": [
       "<div>\n",
       "<style scoped>\n",
       "    .dataframe tbody tr th:only-of-type {\n",
       "        vertical-align: middle;\n",
       "    }\n",
       "\n",
       "    .dataframe tbody tr th {\n",
       "        vertical-align: top;\n",
       "    }\n",
       "\n",
       "    .dataframe thead th {\n",
       "        text-align: right;\n",
       "    }\n",
       "</style>\n",
       "<table border=\"1\" class=\"dataframe\">\n",
       "  <thead>\n",
       "    <tr style=\"text-align: right;\">\n",
       "      <th></th>\n",
       "      <th>InvoiceNo</th>\n",
       "      <th>StockCode</th>\n",
       "      <th>Description</th>\n",
       "      <th>Quantity</th>\n",
       "      <th>InvoiceDate</th>\n",
       "      <th>UnitPrice</th>\n",
       "      <th>CustomerID</th>\n",
       "      <th>Country</th>\n",
       "    </tr>\n",
       "  </thead>\n",
       "  <tbody>\n",
       "    <tr>\n",
       "      <th>541904</th>\n",
       "      <td>581587</td>\n",
       "      <td>22613</td>\n",
       "      <td>PACK OF 20 SPACEBOY NAPKINS</td>\n",
       "      <td>12</td>\n",
       "      <td>2011-12-09 12:50:00</td>\n",
       "      <td>0.85</td>\n",
       "      <td>12680.0</td>\n",
       "      <td>France</td>\n",
       "    </tr>\n",
       "    <tr>\n",
       "      <th>541905</th>\n",
       "      <td>581587</td>\n",
       "      <td>22899</td>\n",
       "      <td>CHILDREN'S APRON DOLLY GIRL</td>\n",
       "      <td>6</td>\n",
       "      <td>2011-12-09 12:50:00</td>\n",
       "      <td>2.10</td>\n",
       "      <td>12680.0</td>\n",
       "      <td>France</td>\n",
       "    </tr>\n",
       "    <tr>\n",
       "      <th>541906</th>\n",
       "      <td>581587</td>\n",
       "      <td>23254</td>\n",
       "      <td>CHILDRENS CUTLERY DOLLY GIRL</td>\n",
       "      <td>4</td>\n",
       "      <td>2011-12-09 12:50:00</td>\n",
       "      <td>4.15</td>\n",
       "      <td>12680.0</td>\n",
       "      <td>France</td>\n",
       "    </tr>\n",
       "    <tr>\n",
       "      <th>541907</th>\n",
       "      <td>581587</td>\n",
       "      <td>23255</td>\n",
       "      <td>CHILDRENS CUTLERY CIRCUS PARADE</td>\n",
       "      <td>4</td>\n",
       "      <td>2011-12-09 12:50:00</td>\n",
       "      <td>4.15</td>\n",
       "      <td>12680.0</td>\n",
       "      <td>France</td>\n",
       "    </tr>\n",
       "    <tr>\n",
       "      <th>541908</th>\n",
       "      <td>581587</td>\n",
       "      <td>22138</td>\n",
       "      <td>BAKING SET 9 PIECE RETROSPOT</td>\n",
       "      <td>3</td>\n",
       "      <td>2011-12-09 12:50:00</td>\n",
       "      <td>4.95</td>\n",
       "      <td>12680.0</td>\n",
       "      <td>France</td>\n",
       "    </tr>\n",
       "  </tbody>\n",
       "</table>\n",
       "</div>"
      ]
     },
     "execution_count": 7,
     "metadata": {},
     "output_type": "execute_result"
    }
   ],
   "execution_count": 7
  },
  {
   "metadata": {
    "ExecuteTime": {
     "end_time": "2025-10-18T11:44:05.713542Z",
     "start_time": "2025-10-18T11:44:05.545308Z"
    }
   },
   "cell_type": "code",
   "source": "dados.info()",
   "id": "dece2bd66e218994",
   "outputs": [
    {
     "name": "stdout",
     "output_type": "stream",
     "text": [
      "<class 'pandas.core.frame.DataFrame'>\n",
      "RangeIndex: 541909 entries, 0 to 541908\n",
      "Data columns (total 8 columns):\n",
      " #   Column       Non-Null Count   Dtype         \n",
      "---  ------       --------------   -----         \n",
      " 0   InvoiceNo    541909 non-null  object        \n",
      " 1   StockCode    541909 non-null  object        \n",
      " 2   Description  540455 non-null  object        \n",
      " 3   Quantity     541909 non-null  int64         \n",
      " 4   InvoiceDate  541909 non-null  datetime64[ns]\n",
      " 5   UnitPrice    541909 non-null  float64       \n",
      " 6   CustomerID   406829 non-null  float64       \n",
      " 7   Country      541909 non-null  object        \n",
      "dtypes: datetime64[ns](1), float64(2), int64(1), object(4)\n",
      "memory usage: 33.1+ MB\n"
     ]
    }
   ],
   "execution_count": 8
  },
  {
   "metadata": {
    "ExecuteTime": {
     "end_time": "2025-10-18T11:44:05.919789Z",
     "start_time": "2025-10-18T11:44:05.756608Z"
    }
   },
   "cell_type": "code",
   "source": "dados.describe()",
   "id": "747531f6d673cefe",
   "outputs": [
    {
     "data": {
      "text/plain": [
       "            Quantity                    InvoiceDate      UnitPrice  \\\n",
       "count  541909.000000                         541909  541909.000000   \n",
       "mean        9.552250  2011-07-04 13:34:57.156386048       4.611114   \n",
       "min    -80995.000000            2010-12-01 08:26:00  -11062.060000   \n",
       "25%         1.000000            2011-03-28 11:34:00       1.250000   \n",
       "50%         3.000000            2011-07-19 17:17:00       2.080000   \n",
       "75%        10.000000            2011-10-19 11:27:00       4.130000   \n",
       "max     80995.000000            2011-12-09 12:50:00   38970.000000   \n",
       "std       218.081158                            NaN      96.759853   \n",
       "\n",
       "          CustomerID  \n",
       "count  406829.000000  \n",
       "mean    15287.690570  \n",
       "min     12346.000000  \n",
       "25%     13953.000000  \n",
       "50%     15152.000000  \n",
       "75%     16791.000000  \n",
       "max     18287.000000  \n",
       "std      1713.600303  "
      ],
      "text/html": [
       "<div>\n",
       "<style scoped>\n",
       "    .dataframe tbody tr th:only-of-type {\n",
       "        vertical-align: middle;\n",
       "    }\n",
       "\n",
       "    .dataframe tbody tr th {\n",
       "        vertical-align: top;\n",
       "    }\n",
       "\n",
       "    .dataframe thead th {\n",
       "        text-align: right;\n",
       "    }\n",
       "</style>\n",
       "<table border=\"1\" class=\"dataframe\">\n",
       "  <thead>\n",
       "    <tr style=\"text-align: right;\">\n",
       "      <th></th>\n",
       "      <th>Quantity</th>\n",
       "      <th>InvoiceDate</th>\n",
       "      <th>UnitPrice</th>\n",
       "      <th>CustomerID</th>\n",
       "    </tr>\n",
       "  </thead>\n",
       "  <tbody>\n",
       "    <tr>\n",
       "      <th>count</th>\n",
       "      <td>541909.000000</td>\n",
       "      <td>541909</td>\n",
       "      <td>541909.000000</td>\n",
       "      <td>406829.000000</td>\n",
       "    </tr>\n",
       "    <tr>\n",
       "      <th>mean</th>\n",
       "      <td>9.552250</td>\n",
       "      <td>2011-07-04 13:34:57.156386048</td>\n",
       "      <td>4.611114</td>\n",
       "      <td>15287.690570</td>\n",
       "    </tr>\n",
       "    <tr>\n",
       "      <th>min</th>\n",
       "      <td>-80995.000000</td>\n",
       "      <td>2010-12-01 08:26:00</td>\n",
       "      <td>-11062.060000</td>\n",
       "      <td>12346.000000</td>\n",
       "    </tr>\n",
       "    <tr>\n",
       "      <th>25%</th>\n",
       "      <td>1.000000</td>\n",
       "      <td>2011-03-28 11:34:00</td>\n",
       "      <td>1.250000</td>\n",
       "      <td>13953.000000</td>\n",
       "    </tr>\n",
       "    <tr>\n",
       "      <th>50%</th>\n",
       "      <td>3.000000</td>\n",
       "      <td>2011-07-19 17:17:00</td>\n",
       "      <td>2.080000</td>\n",
       "      <td>15152.000000</td>\n",
       "    </tr>\n",
       "    <tr>\n",
       "      <th>75%</th>\n",
       "      <td>10.000000</td>\n",
       "      <td>2011-10-19 11:27:00</td>\n",
       "      <td>4.130000</td>\n",
       "      <td>16791.000000</td>\n",
       "    </tr>\n",
       "    <tr>\n",
       "      <th>max</th>\n",
       "      <td>80995.000000</td>\n",
       "      <td>2011-12-09 12:50:00</td>\n",
       "      <td>38970.000000</td>\n",
       "      <td>18287.000000</td>\n",
       "    </tr>\n",
       "    <tr>\n",
       "      <th>std</th>\n",
       "      <td>218.081158</td>\n",
       "      <td>NaN</td>\n",
       "      <td>96.759853</td>\n",
       "      <td>1713.600303</td>\n",
       "    </tr>\n",
       "  </tbody>\n",
       "</table>\n",
       "</div>"
      ]
     },
     "execution_count": 9,
     "metadata": {},
     "output_type": "execute_result"
    }
   ],
   "execution_count": 9
  },
  {
   "metadata": {
    "ExecuteTime": {
     "end_time": "2025-10-18T11:44:05.956769Z",
     "start_time": "2025-10-18T11:44:05.944646Z"
    }
   },
   "cell_type": "code",
   "source": "dados.dtypes",
   "id": "7fb4ebe12c2af0ed",
   "outputs": [
    {
     "data": {
      "text/plain": [
       "InvoiceNo              object\n",
       "StockCode              object\n",
       "Description            object\n",
       "Quantity                int64\n",
       "InvoiceDate    datetime64[ns]\n",
       "UnitPrice             float64\n",
       "CustomerID            float64\n",
       "Country                object\n",
       "dtype: object"
      ]
     },
     "execution_count": 10,
     "metadata": {},
     "output_type": "execute_result"
    }
   ],
   "execution_count": 10
  },
  {
   "metadata": {},
   "cell_type": "markdown",
   "source": "## **Verificando a existência de dados ausentes**",
   "id": "42597f56380b8a8d"
  },
  {
   "metadata": {
    "ExecuteTime": {
     "end_time": "2025-10-18T11:44:06.131628Z",
     "start_time": "2025-10-18T11:44:06.016653Z"
    }
   },
   "cell_type": "code",
   "source": [
    "dados_ausentes = dados.isnull().sum()\n",
    "\n",
    "print(dados_ausentes)"
   ],
   "id": "705c7d6d9be2b6d8",
   "outputs": [
    {
     "name": "stdout",
     "output_type": "stream",
     "text": [
      "InvoiceNo           0\n",
      "StockCode           0\n",
      "Description      1454\n",
      "Quantity            0\n",
      "InvoiceDate         0\n",
      "UnitPrice           0\n",
      "CustomerID     135080\n",
      "Country             0\n",
      "dtype: int64\n"
     ]
    }
   ],
   "execution_count": 11
  },
  {
   "metadata": {},
   "cell_type": "markdown",
   "source": "## **Verificando a existência de dados duplicados**",
   "id": "fbee7bcf14d64547"
  },
  {
   "metadata": {
    "ExecuteTime": {
     "end_time": "2025-10-18T11:44:06.514882Z",
     "start_time": "2025-10-18T11:44:06.166555Z"
    }
   },
   "cell_type": "code",
   "source": "print(dados.duplicated().sum())\n",
   "id": "c000ed6c367e97f7",
   "outputs": [
    {
     "name": "stdout",
     "output_type": "stream",
     "text": [
      "5268\n"
     ]
    }
   ],
   "execution_count": 12
  },
  {
   "metadata": {},
   "cell_type": "markdown",
   "source": "## **Eliminando dados ausentes na coluna 'CustomerID' pois é uma coluna importante para identificar os clientes.**",
   "id": "9b5631a4b414f1b3"
  },
  {
   "metadata": {
    "ExecuteTime": {
     "end_time": "2025-10-18T11:44:06.703872Z",
     "start_time": "2025-10-18T11:44:06.540730Z"
    }
   },
   "cell_type": "code",
   "source": [
    "dados.dropna(subset=['CustomerID'], inplace=True)\n",
    "\n",
    "dados_ausentes = dados.isnull().sum()\n",
    "dados_ausentes"
   ],
   "id": "d91f5c11f8fcfd2e",
   "outputs": [
    {
     "data": {
      "text/plain": [
       "InvoiceNo      0\n",
       "StockCode      0\n",
       "Description    0\n",
       "Quantity       0\n",
       "InvoiceDate    0\n",
       "UnitPrice      0\n",
       "CustomerID     0\n",
       "Country        0\n",
       "dtype: int64"
      ]
     },
     "execution_count": 13,
     "metadata": {},
     "output_type": "execute_result"
    }
   ],
   "execution_count": 13
  },
  {
   "metadata": {},
   "cell_type": "markdown",
   "source": "## **Transformando a coluna 'CustomerID' de float para int, pois IDs de clientes são geralmente representados como inteiros.**",
   "id": "d3495b46a13c66cc"
  },
  {
   "metadata": {
    "ExecuteTime": {
     "end_time": "2025-10-18T11:44:06.736312Z",
     "start_time": "2025-10-18T11:44:06.726611Z"
    }
   },
   "cell_type": "code",
   "source": "dados['CustomerID'] = dados['CustomerID'].astype(int)",
   "id": "e78ae9c533a4c3d3",
   "outputs": [],
   "execution_count": 14
  },
  {
   "metadata": {
    "ExecuteTime": {
     "end_time": "2025-10-18T11:44:06.761322Z",
     "start_time": "2025-10-18T11:44:06.753755Z"
    }
   },
   "cell_type": "code",
   "source": "dados['CustomerID'].dtypes",
   "id": "a84dd81baa5a6eb0",
   "outputs": [
    {
     "data": {
      "text/plain": [
       "dtype('int64')"
      ]
     },
     "execution_count": 15,
     "metadata": {},
     "output_type": "execute_result"
    }
   ],
   "execution_count": 15
  },
  {
   "metadata": {},
   "cell_type": "markdown",
   "source": "## **Traduzindo os nomes das colunas para português**",
   "id": "bf9796b102e8d131"
  },
  {
   "metadata": {
    "ExecuteTime": {
     "end_time": "2025-10-18T11:44:06.807255Z",
     "start_time": "2025-10-18T11:44:06.784702Z"
    }
   },
   "cell_type": "code",
   "source": [
    "# Traduzindo os nomes das colunas para português\n",
    "dados.rename(columns={\n",
    "    'InvoiceNo': 'Número da Fatura',\n",
    "    'StockCode': 'Código do Produto',\n",
    "    'Description': 'Descrição',\n",
    "    'Quantity': 'Quantidade',\n",
    "    'InvoiceDate': 'Data da Fatura',\n",
    "    'UnitPrice': 'Preço Unitário',\n",
    "    'CustomerID': 'ID do Cliente',\n",
    "    'Country': 'País'\n",
    "}, inplace=True)\n",
    "\n",
    "dados.head()"
   ],
   "id": "361a1520cbb9c893",
   "outputs": [
    {
     "data": {
      "text/plain": [
       "  Número da Fatura Código do Produto                            Descrição  \\\n",
       "0           536365            85123A   WHITE HANGING HEART T-LIGHT HOLDER   \n",
       "1           536365             71053                  WHITE METAL LANTERN   \n",
       "2           536365            84406B       CREAM CUPID HEARTS COAT HANGER   \n",
       "3           536365            84029G  KNITTED UNION FLAG HOT WATER BOTTLE   \n",
       "4           536365            84029E       RED WOOLLY HOTTIE WHITE HEART.   \n",
       "\n",
       "   Quantidade      Data da Fatura  Preço Unitário  ID do Cliente  \\\n",
       "0           6 2010-12-01 08:26:00            2.55          17850   \n",
       "1           6 2010-12-01 08:26:00            3.39          17850   \n",
       "2           8 2010-12-01 08:26:00            2.75          17850   \n",
       "3           6 2010-12-01 08:26:00            3.39          17850   \n",
       "4           6 2010-12-01 08:26:00            3.39          17850   \n",
       "\n",
       "             País  \n",
       "0  United Kingdom  \n",
       "1  United Kingdom  \n",
       "2  United Kingdom  \n",
       "3  United Kingdom  \n",
       "4  United Kingdom  "
      ],
      "text/html": [
       "<div>\n",
       "<style scoped>\n",
       "    .dataframe tbody tr th:only-of-type {\n",
       "        vertical-align: middle;\n",
       "    }\n",
       "\n",
       "    .dataframe tbody tr th {\n",
       "        vertical-align: top;\n",
       "    }\n",
       "\n",
       "    .dataframe thead th {\n",
       "        text-align: right;\n",
       "    }\n",
       "</style>\n",
       "<table border=\"1\" class=\"dataframe\">\n",
       "  <thead>\n",
       "    <tr style=\"text-align: right;\">\n",
       "      <th></th>\n",
       "      <th>Número da Fatura</th>\n",
       "      <th>Código do Produto</th>\n",
       "      <th>Descrição</th>\n",
       "      <th>Quantidade</th>\n",
       "      <th>Data da Fatura</th>\n",
       "      <th>Preço Unitário</th>\n",
       "      <th>ID do Cliente</th>\n",
       "      <th>País</th>\n",
       "    </tr>\n",
       "  </thead>\n",
       "  <tbody>\n",
       "    <tr>\n",
       "      <th>0</th>\n",
       "      <td>536365</td>\n",
       "      <td>85123A</td>\n",
       "      <td>WHITE HANGING HEART T-LIGHT HOLDER</td>\n",
       "      <td>6</td>\n",
       "      <td>2010-12-01 08:26:00</td>\n",
       "      <td>2.55</td>\n",
       "      <td>17850</td>\n",
       "      <td>United Kingdom</td>\n",
       "    </tr>\n",
       "    <tr>\n",
       "      <th>1</th>\n",
       "      <td>536365</td>\n",
       "      <td>71053</td>\n",
       "      <td>WHITE METAL LANTERN</td>\n",
       "      <td>6</td>\n",
       "      <td>2010-12-01 08:26:00</td>\n",
       "      <td>3.39</td>\n",
       "      <td>17850</td>\n",
       "      <td>United Kingdom</td>\n",
       "    </tr>\n",
       "    <tr>\n",
       "      <th>2</th>\n",
       "      <td>536365</td>\n",
       "      <td>84406B</td>\n",
       "      <td>CREAM CUPID HEARTS COAT HANGER</td>\n",
       "      <td>8</td>\n",
       "      <td>2010-12-01 08:26:00</td>\n",
       "      <td>2.75</td>\n",
       "      <td>17850</td>\n",
       "      <td>United Kingdom</td>\n",
       "    </tr>\n",
       "    <tr>\n",
       "      <th>3</th>\n",
       "      <td>536365</td>\n",
       "      <td>84029G</td>\n",
       "      <td>KNITTED UNION FLAG HOT WATER BOTTLE</td>\n",
       "      <td>6</td>\n",
       "      <td>2010-12-01 08:26:00</td>\n",
       "      <td>3.39</td>\n",
       "      <td>17850</td>\n",
       "      <td>United Kingdom</td>\n",
       "    </tr>\n",
       "    <tr>\n",
       "      <th>4</th>\n",
       "      <td>536365</td>\n",
       "      <td>84029E</td>\n",
       "      <td>RED WOOLLY HOTTIE WHITE HEART.</td>\n",
       "      <td>6</td>\n",
       "      <td>2010-12-01 08:26:00</td>\n",
       "      <td>3.39</td>\n",
       "      <td>17850</td>\n",
       "      <td>United Kingdom</td>\n",
       "    </tr>\n",
       "  </tbody>\n",
       "</table>\n",
       "</div>"
      ]
     },
     "execution_count": 16,
     "metadata": {},
     "output_type": "execute_result"
    }
   ],
   "execution_count": 16
  },
  {
   "metadata": {},
   "cell_type": "markdown",
   "source": "## **Verificando a existência de valores negativos na coluna Quantidade**",
   "id": "c23047227148e998"
  },
  {
   "metadata": {
    "ExecuteTime": {
     "end_time": "2025-10-18T11:44:06.857918Z",
     "start_time": "2025-10-18T11:44:06.850379Z"
    }
   },
   "cell_type": "code",
   "source": "print((dados['Quantidade']<0).sum())",
   "id": "3ef3022c0f52fa2a",
   "outputs": [
    {
     "name": "stdout",
     "output_type": "stream",
     "text": [
      "8905\n"
     ]
    }
   ],
   "execution_count": 17
  },
  {
   "metadata": {},
   "cell_type": "markdown",
   "source": "## **Criando nova coluna \"Devolução\" para os valores negativos de Quantidade**",
   "id": "8b5d2f4538f7b54"
  },
  {
   "metadata": {
    "ExecuteTime": {
     "end_time": "2025-10-18T11:44:06.912949Z",
     "start_time": "2025-10-18T11:44:06.892663Z"
    }
   },
   "cell_type": "code",
   "source": [
    "# Criando nova coluna \"Devolução\" para os valores negativos de Quantidade\n",
    "\n",
    "dados['Devolução'] = dados['Quantidade'] < 0\n",
    "\n",
    "dados.head()"
   ],
   "id": "c62dd0f1fb0e45ba",
   "outputs": [
    {
     "data": {
      "text/plain": [
       "  Número da Fatura Código do Produto                            Descrição  \\\n",
       "0           536365            85123A   WHITE HANGING HEART T-LIGHT HOLDER   \n",
       "1           536365             71053                  WHITE METAL LANTERN   \n",
       "2           536365            84406B       CREAM CUPID HEARTS COAT HANGER   \n",
       "3           536365            84029G  KNITTED UNION FLAG HOT WATER BOTTLE   \n",
       "4           536365            84029E       RED WOOLLY HOTTIE WHITE HEART.   \n",
       "\n",
       "   Quantidade      Data da Fatura  Preço Unitário  ID do Cliente  \\\n",
       "0           6 2010-12-01 08:26:00            2.55          17850   \n",
       "1           6 2010-12-01 08:26:00            3.39          17850   \n",
       "2           8 2010-12-01 08:26:00            2.75          17850   \n",
       "3           6 2010-12-01 08:26:00            3.39          17850   \n",
       "4           6 2010-12-01 08:26:00            3.39          17850   \n",
       "\n",
       "             País  Devolução  \n",
       "0  United Kingdom      False  \n",
       "1  United Kingdom      False  \n",
       "2  United Kingdom      False  \n",
       "3  United Kingdom      False  \n",
       "4  United Kingdom      False  "
      ],
      "text/html": [
       "<div>\n",
       "<style scoped>\n",
       "    .dataframe tbody tr th:only-of-type {\n",
       "        vertical-align: middle;\n",
       "    }\n",
       "\n",
       "    .dataframe tbody tr th {\n",
       "        vertical-align: top;\n",
       "    }\n",
       "\n",
       "    .dataframe thead th {\n",
       "        text-align: right;\n",
       "    }\n",
       "</style>\n",
       "<table border=\"1\" class=\"dataframe\">\n",
       "  <thead>\n",
       "    <tr style=\"text-align: right;\">\n",
       "      <th></th>\n",
       "      <th>Número da Fatura</th>\n",
       "      <th>Código do Produto</th>\n",
       "      <th>Descrição</th>\n",
       "      <th>Quantidade</th>\n",
       "      <th>Data da Fatura</th>\n",
       "      <th>Preço Unitário</th>\n",
       "      <th>ID do Cliente</th>\n",
       "      <th>País</th>\n",
       "      <th>Devolução</th>\n",
       "    </tr>\n",
       "  </thead>\n",
       "  <tbody>\n",
       "    <tr>\n",
       "      <th>0</th>\n",
       "      <td>536365</td>\n",
       "      <td>85123A</td>\n",
       "      <td>WHITE HANGING HEART T-LIGHT HOLDER</td>\n",
       "      <td>6</td>\n",
       "      <td>2010-12-01 08:26:00</td>\n",
       "      <td>2.55</td>\n",
       "      <td>17850</td>\n",
       "      <td>United Kingdom</td>\n",
       "      <td>False</td>\n",
       "    </tr>\n",
       "    <tr>\n",
       "      <th>1</th>\n",
       "      <td>536365</td>\n",
       "      <td>71053</td>\n",
       "      <td>WHITE METAL LANTERN</td>\n",
       "      <td>6</td>\n",
       "      <td>2010-12-01 08:26:00</td>\n",
       "      <td>3.39</td>\n",
       "      <td>17850</td>\n",
       "      <td>United Kingdom</td>\n",
       "      <td>False</td>\n",
       "    </tr>\n",
       "    <tr>\n",
       "      <th>2</th>\n",
       "      <td>536365</td>\n",
       "      <td>84406B</td>\n",
       "      <td>CREAM CUPID HEARTS COAT HANGER</td>\n",
       "      <td>8</td>\n",
       "      <td>2010-12-01 08:26:00</td>\n",
       "      <td>2.75</td>\n",
       "      <td>17850</td>\n",
       "      <td>United Kingdom</td>\n",
       "      <td>False</td>\n",
       "    </tr>\n",
       "    <tr>\n",
       "      <th>3</th>\n",
       "      <td>536365</td>\n",
       "      <td>84029G</td>\n",
       "      <td>KNITTED UNION FLAG HOT WATER BOTTLE</td>\n",
       "      <td>6</td>\n",
       "      <td>2010-12-01 08:26:00</td>\n",
       "      <td>3.39</td>\n",
       "      <td>17850</td>\n",
       "      <td>United Kingdom</td>\n",
       "      <td>False</td>\n",
       "    </tr>\n",
       "    <tr>\n",
       "      <th>4</th>\n",
       "      <td>536365</td>\n",
       "      <td>84029E</td>\n",
       "      <td>RED WOOLLY HOTTIE WHITE HEART.</td>\n",
       "      <td>6</td>\n",
       "      <td>2010-12-01 08:26:00</td>\n",
       "      <td>3.39</td>\n",
       "      <td>17850</td>\n",
       "      <td>United Kingdom</td>\n",
       "      <td>False</td>\n",
       "    </tr>\n",
       "  </tbody>\n",
       "</table>\n",
       "</div>"
      ]
     },
     "execution_count": 18,
     "metadata": {},
     "output_type": "execute_result"
    }
   ],
   "execution_count": 18
  },
  {
   "metadata": {
    "ExecuteTime": {
     "end_time": "2025-10-18T11:44:06.961236Z",
     "start_time": "2025-10-18T11:44:06.949053Z"
    }
   },
   "cell_type": "code",
   "source": "dados['Devolução'].value_counts()",
   "id": "1d0f63f7291366a9",
   "outputs": [
    {
     "data": {
      "text/plain": [
       "Devolução\n",
       "False    397924\n",
       "True       8905\n",
       "Name: count, dtype: int64"
      ]
     },
     "execution_count": 19,
     "metadata": {},
     "output_type": "execute_result"
    }
   ],
   "execution_count": 19
  },
  {
   "metadata": {},
   "cell_type": "markdown",
   "source": "## **Substituindo os valores negativos da coluna 'Quantidade' por 0**",
   "id": "325e91533df182a5"
  },
  {
   "metadata": {
    "ExecuteTime": {
     "end_time": "2025-10-18T11:44:07.115080Z",
     "start_time": "2025-10-18T11:44:07.013729Z"
    }
   },
   "cell_type": "code",
   "source": [
    "dados.loc[dados['Quantidade'] < 0, 'Quantidade'] = 0\n",
    "\n",
    "dados.describe()"
   ],
   "id": "d9b589b1b39fda73",
   "outputs": [
    {
     "data": {
      "text/plain": [
       "          Quantidade                 Data da Fatura  Preço Unitário  \\\n",
       "count  406829.000000                         406829   406829.000000   \n",
       "mean       12.736791  2011-07-10 16:30:57.879207424        3.460471   \n",
       "min         0.000000            2010-12-01 08:26:00        0.000000   \n",
       "25%         2.000000            2011-04-06 15:02:00        1.250000   \n",
       "50%         5.000000            2011-07-31 11:48:00        1.950000   \n",
       "75%        12.000000            2011-10-20 13:06:00        3.750000   \n",
       "max     80995.000000            2011-12-09 12:50:00    38970.000000   \n",
       "std       178.444861                            NaN       69.315162   \n",
       "\n",
       "       ID do Cliente  \n",
       "count  406829.000000  \n",
       "mean    15287.690570  \n",
       "min     12346.000000  \n",
       "25%     13953.000000  \n",
       "50%     15152.000000  \n",
       "75%     16791.000000  \n",
       "max     18287.000000  \n",
       "std      1713.600303  "
      ],
      "text/html": [
       "<div>\n",
       "<style scoped>\n",
       "    .dataframe tbody tr th:only-of-type {\n",
       "        vertical-align: middle;\n",
       "    }\n",
       "\n",
       "    .dataframe tbody tr th {\n",
       "        vertical-align: top;\n",
       "    }\n",
       "\n",
       "    .dataframe thead th {\n",
       "        text-align: right;\n",
       "    }\n",
       "</style>\n",
       "<table border=\"1\" class=\"dataframe\">\n",
       "  <thead>\n",
       "    <tr style=\"text-align: right;\">\n",
       "      <th></th>\n",
       "      <th>Quantidade</th>\n",
       "      <th>Data da Fatura</th>\n",
       "      <th>Preço Unitário</th>\n",
       "      <th>ID do Cliente</th>\n",
       "    </tr>\n",
       "  </thead>\n",
       "  <tbody>\n",
       "    <tr>\n",
       "      <th>count</th>\n",
       "      <td>406829.000000</td>\n",
       "      <td>406829</td>\n",
       "      <td>406829.000000</td>\n",
       "      <td>406829.000000</td>\n",
       "    </tr>\n",
       "    <tr>\n",
       "      <th>mean</th>\n",
       "      <td>12.736791</td>\n",
       "      <td>2011-07-10 16:30:57.879207424</td>\n",
       "      <td>3.460471</td>\n",
       "      <td>15287.690570</td>\n",
       "    </tr>\n",
       "    <tr>\n",
       "      <th>min</th>\n",
       "      <td>0.000000</td>\n",
       "      <td>2010-12-01 08:26:00</td>\n",
       "      <td>0.000000</td>\n",
       "      <td>12346.000000</td>\n",
       "    </tr>\n",
       "    <tr>\n",
       "      <th>25%</th>\n",
       "      <td>2.000000</td>\n",
       "      <td>2011-04-06 15:02:00</td>\n",
       "      <td>1.250000</td>\n",
       "      <td>13953.000000</td>\n",
       "    </tr>\n",
       "    <tr>\n",
       "      <th>50%</th>\n",
       "      <td>5.000000</td>\n",
       "      <td>2011-07-31 11:48:00</td>\n",
       "      <td>1.950000</td>\n",
       "      <td>15152.000000</td>\n",
       "    </tr>\n",
       "    <tr>\n",
       "      <th>75%</th>\n",
       "      <td>12.000000</td>\n",
       "      <td>2011-10-20 13:06:00</td>\n",
       "      <td>3.750000</td>\n",
       "      <td>16791.000000</td>\n",
       "    </tr>\n",
       "    <tr>\n",
       "      <th>max</th>\n",
       "      <td>80995.000000</td>\n",
       "      <td>2011-12-09 12:50:00</td>\n",
       "      <td>38970.000000</td>\n",
       "      <td>18287.000000</td>\n",
       "    </tr>\n",
       "    <tr>\n",
       "      <th>std</th>\n",
       "      <td>178.444861</td>\n",
       "      <td>NaN</td>\n",
       "      <td>69.315162</td>\n",
       "      <td>1713.600303</td>\n",
       "    </tr>\n",
       "  </tbody>\n",
       "</table>\n",
       "</div>"
      ]
     },
     "execution_count": 20,
     "metadata": {},
     "output_type": "execute_result"
    }
   ],
   "execution_count": 20
  },
  {
   "metadata": {
    "ExecuteTime": {
     "end_time": "2025-10-18T11:44:07.148279Z",
     "start_time": "2025-10-18T11:44:07.136215Z"
    }
   },
   "cell_type": "code",
   "source": "dados['Preço Unitário'].isna().any()",
   "id": "dcc43c5c5d9a2212",
   "outputs": [
    {
     "data": {
      "text/plain": [
       "np.False_"
      ]
     },
     "execution_count": 21,
     "metadata": {},
     "output_type": "execute_result"
    }
   ],
   "execution_count": 21
  },
  {
   "metadata": {},
   "cell_type": "markdown",
   "source": "# **1- Engenharia de atributos (Calculo do RFM - Recência, Frequência e Valor Monetário)**",
   "id": "9a0436e8a211b88e"
  },
  {
   "metadata": {},
   "cell_type": "markdown",
   "source": "## **Recência (R): Quantos dias se passaram desde a última compra do cliente?**",
   "id": "d7d42c74e9550595"
  },
  {
   "metadata": {
    "ExecuteTime": {
     "end_time": "2025-10-18T11:44:07.245208Z",
     "start_time": "2025-10-18T11:44:07.183377Z"
    }
   },
   "cell_type": "code",
   "source": [
    "# Definir a data de referência (snapshot_date)\n",
    "snapshot_date = dados['Data da Fatura'].max() + pd.Timedelta(days=1)\n",
    "\n",
    "# Agrupar por cliente e pegar a última data de compra\n",
    "ultima_compra = dados.groupby('ID do Cliente')['Data da Fatura'].max().reset_index()\n",
    "ultima_compra.columns = ['ID do Cliente', 'Ultima Compra']\n",
    "\n",
    "# Calcular a recência: diferença entre snapshot_date e a última compra\n",
    "ultima_compra['Recencia'] = (snapshot_date - ultima_compra['Ultima Compra']).dt.days\n",
    "\n",
    "\n",
    "# Visualizar o resultado\n",
    "ultima_compra.head(10).sort_values(by='Recencia', ascending=False)"
   ],
   "id": "94e079d6ce1c9c1f",
   "outputs": [
    {
     "data": {
      "text/plain": [
       "   ID do Cliente       Ultima Compra  Recencia\n",
       "0          12346 2011-01-18 10:17:00       326\n",
       "4          12350 2011-02-02 16:01:00       310\n",
       "7          12354 2011-04-21 13:11:00       232\n",
       "8          12355 2011-05-09 13:49:00       214\n",
       "6          12353 2011-05-19 17:47:00       204\n",
       "2          12348 2011-09-25 13:13:00        75\n",
       "5          12352 2011-11-03 14:37:00        36\n",
       "9          12356 2011-11-17 08:40:00        23\n",
       "3          12349 2011-11-21 09:51:00        19\n",
       "1          12347 2011-12-07 15:52:00         2"
      ],
      "text/html": [
       "<div>\n",
       "<style scoped>\n",
       "    .dataframe tbody tr th:only-of-type {\n",
       "        vertical-align: middle;\n",
       "    }\n",
       "\n",
       "    .dataframe tbody tr th {\n",
       "        vertical-align: top;\n",
       "    }\n",
       "\n",
       "    .dataframe thead th {\n",
       "        text-align: right;\n",
       "    }\n",
       "</style>\n",
       "<table border=\"1\" class=\"dataframe\">\n",
       "  <thead>\n",
       "    <tr style=\"text-align: right;\">\n",
       "      <th></th>\n",
       "      <th>ID do Cliente</th>\n",
       "      <th>Ultima Compra</th>\n",
       "      <th>Recencia</th>\n",
       "    </tr>\n",
       "  </thead>\n",
       "  <tbody>\n",
       "    <tr>\n",
       "      <th>0</th>\n",
       "      <td>12346</td>\n",
       "      <td>2011-01-18 10:17:00</td>\n",
       "      <td>326</td>\n",
       "    </tr>\n",
       "    <tr>\n",
       "      <th>4</th>\n",
       "      <td>12350</td>\n",
       "      <td>2011-02-02 16:01:00</td>\n",
       "      <td>310</td>\n",
       "    </tr>\n",
       "    <tr>\n",
       "      <th>7</th>\n",
       "      <td>12354</td>\n",
       "      <td>2011-04-21 13:11:00</td>\n",
       "      <td>232</td>\n",
       "    </tr>\n",
       "    <tr>\n",
       "      <th>8</th>\n",
       "      <td>12355</td>\n",
       "      <td>2011-05-09 13:49:00</td>\n",
       "      <td>214</td>\n",
       "    </tr>\n",
       "    <tr>\n",
       "      <th>6</th>\n",
       "      <td>12353</td>\n",
       "      <td>2011-05-19 17:47:00</td>\n",
       "      <td>204</td>\n",
       "    </tr>\n",
       "    <tr>\n",
       "      <th>2</th>\n",
       "      <td>12348</td>\n",
       "      <td>2011-09-25 13:13:00</td>\n",
       "      <td>75</td>\n",
       "    </tr>\n",
       "    <tr>\n",
       "      <th>5</th>\n",
       "      <td>12352</td>\n",
       "      <td>2011-11-03 14:37:00</td>\n",
       "      <td>36</td>\n",
       "    </tr>\n",
       "    <tr>\n",
       "      <th>9</th>\n",
       "      <td>12356</td>\n",
       "      <td>2011-11-17 08:40:00</td>\n",
       "      <td>23</td>\n",
       "    </tr>\n",
       "    <tr>\n",
       "      <th>3</th>\n",
       "      <td>12349</td>\n",
       "      <td>2011-11-21 09:51:00</td>\n",
       "      <td>19</td>\n",
       "    </tr>\n",
       "    <tr>\n",
       "      <th>1</th>\n",
       "      <td>12347</td>\n",
       "      <td>2011-12-07 15:52:00</td>\n",
       "      <td>2</td>\n",
       "    </tr>\n",
       "  </tbody>\n",
       "</table>\n",
       "</div>"
      ]
     },
     "execution_count": 22,
     "metadata": {},
     "output_type": "execute_result"
    }
   ],
   "execution_count": 22
  },
  {
   "metadata": {
    "ExecuteTime": {
     "end_time": "2025-10-18T11:44:07.375220Z",
     "start_time": "2025-10-18T11:44:07.258812Z"
    }
   },
   "cell_type": "code",
   "source": [
    "# Agrupar por cliente e pegar a última data de compra\n",
    "recencia = dados.groupby('ID do Cliente')['Data da Fatura'].max().reset_index()\n",
    "recencia['Recencia'] = (snapshot_date - recencia['Data da Fatura']).dt.days\n",
    "recencia = recencia[['ID do Cliente', 'Recencia']]\n",
    "\n",
    "#recencia.head(10).sort_values(by='Recencia', ascending=False)\n",
    "# Agora, adicionar a coluna 'Recencia' ao DataFrame 'dados'\n",
    "dados = dados.merge(recencia, on='ID do Cliente', how='left')\n",
    "dados.head()"
   ],
   "id": "b4ecc70b3b7b65c3",
   "outputs": [
    {
     "data": {
      "text/plain": [
       "  Número da Fatura Código do Produto                            Descrição  \\\n",
       "0           536365            85123A   WHITE HANGING HEART T-LIGHT HOLDER   \n",
       "1           536365             71053                  WHITE METAL LANTERN   \n",
       "2           536365            84406B       CREAM CUPID HEARTS COAT HANGER   \n",
       "3           536365            84029G  KNITTED UNION FLAG HOT WATER BOTTLE   \n",
       "4           536365            84029E       RED WOOLLY HOTTIE WHITE HEART.   \n",
       "\n",
       "   Quantidade      Data da Fatura  Preço Unitário  ID do Cliente  \\\n",
       "0           6 2010-12-01 08:26:00            2.55          17850   \n",
       "1           6 2010-12-01 08:26:00            3.39          17850   \n",
       "2           8 2010-12-01 08:26:00            2.75          17850   \n",
       "3           6 2010-12-01 08:26:00            3.39          17850   \n",
       "4           6 2010-12-01 08:26:00            3.39          17850   \n",
       "\n",
       "             País  Devolução  Recencia  \n",
       "0  United Kingdom      False       302  \n",
       "1  United Kingdom      False       302  \n",
       "2  United Kingdom      False       302  \n",
       "3  United Kingdom      False       302  \n",
       "4  United Kingdom      False       302  "
      ],
      "text/html": [
       "<div>\n",
       "<style scoped>\n",
       "    .dataframe tbody tr th:only-of-type {\n",
       "        vertical-align: middle;\n",
       "    }\n",
       "\n",
       "    .dataframe tbody tr th {\n",
       "        vertical-align: top;\n",
       "    }\n",
       "\n",
       "    .dataframe thead th {\n",
       "        text-align: right;\n",
       "    }\n",
       "</style>\n",
       "<table border=\"1\" class=\"dataframe\">\n",
       "  <thead>\n",
       "    <tr style=\"text-align: right;\">\n",
       "      <th></th>\n",
       "      <th>Número da Fatura</th>\n",
       "      <th>Código do Produto</th>\n",
       "      <th>Descrição</th>\n",
       "      <th>Quantidade</th>\n",
       "      <th>Data da Fatura</th>\n",
       "      <th>Preço Unitário</th>\n",
       "      <th>ID do Cliente</th>\n",
       "      <th>País</th>\n",
       "      <th>Devolução</th>\n",
       "      <th>Recencia</th>\n",
       "    </tr>\n",
       "  </thead>\n",
       "  <tbody>\n",
       "    <tr>\n",
       "      <th>0</th>\n",
       "      <td>536365</td>\n",
       "      <td>85123A</td>\n",
       "      <td>WHITE HANGING HEART T-LIGHT HOLDER</td>\n",
       "      <td>6</td>\n",
       "      <td>2010-12-01 08:26:00</td>\n",
       "      <td>2.55</td>\n",
       "      <td>17850</td>\n",
       "      <td>United Kingdom</td>\n",
       "      <td>False</td>\n",
       "      <td>302</td>\n",
       "    </tr>\n",
       "    <tr>\n",
       "      <th>1</th>\n",
       "      <td>536365</td>\n",
       "      <td>71053</td>\n",
       "      <td>WHITE METAL LANTERN</td>\n",
       "      <td>6</td>\n",
       "      <td>2010-12-01 08:26:00</td>\n",
       "      <td>3.39</td>\n",
       "      <td>17850</td>\n",
       "      <td>United Kingdom</td>\n",
       "      <td>False</td>\n",
       "      <td>302</td>\n",
       "    </tr>\n",
       "    <tr>\n",
       "      <th>2</th>\n",
       "      <td>536365</td>\n",
       "      <td>84406B</td>\n",
       "      <td>CREAM CUPID HEARTS COAT HANGER</td>\n",
       "      <td>8</td>\n",
       "      <td>2010-12-01 08:26:00</td>\n",
       "      <td>2.75</td>\n",
       "      <td>17850</td>\n",
       "      <td>United Kingdom</td>\n",
       "      <td>False</td>\n",
       "      <td>302</td>\n",
       "    </tr>\n",
       "    <tr>\n",
       "      <th>3</th>\n",
       "      <td>536365</td>\n",
       "      <td>84029G</td>\n",
       "      <td>KNITTED UNION FLAG HOT WATER BOTTLE</td>\n",
       "      <td>6</td>\n",
       "      <td>2010-12-01 08:26:00</td>\n",
       "      <td>3.39</td>\n",
       "      <td>17850</td>\n",
       "      <td>United Kingdom</td>\n",
       "      <td>False</td>\n",
       "      <td>302</td>\n",
       "    </tr>\n",
       "    <tr>\n",
       "      <th>4</th>\n",
       "      <td>536365</td>\n",
       "      <td>84029E</td>\n",
       "      <td>RED WOOLLY HOTTIE WHITE HEART.</td>\n",
       "      <td>6</td>\n",
       "      <td>2010-12-01 08:26:00</td>\n",
       "      <td>3.39</td>\n",
       "      <td>17850</td>\n",
       "      <td>United Kingdom</td>\n",
       "      <td>False</td>\n",
       "      <td>302</td>\n",
       "    </tr>\n",
       "  </tbody>\n",
       "</table>\n",
       "</div>"
      ]
     },
     "execution_count": 23,
     "metadata": {},
     "output_type": "execute_result"
    }
   ],
   "execution_count": 23
  },
  {
   "metadata": {},
   "cell_type": "markdown",
   "source": "## **Frequência (F): Quantas compras o cliente fez no total?**",
   "id": "cf3103e81d0571ac"
  },
  {
   "metadata": {
    "ExecuteTime": {
     "end_time": "2025-10-18T11:44:07.498332Z",
     "start_time": "2025-10-18T11:44:07.405083Z"
    }
   },
   "cell_type": "code",
   "source": [
    "# Contar o número de faturas únicas por cliente\n",
    "frequencia = dados.groupby('ID do Cliente')['Número da Fatura'].nunique().reset_index()\n",
    "\n",
    "# Renomear a coluna para 'Frequencia'\n",
    "frequencia.columns = ['ID do Cliente', 'Frequencia']\n",
    "\n",
    "\n",
    "frequencia.head(10).sort_values(by='Frequencia', ascending=False)"
   ],
   "id": "d7ae3dc60c864b59",
   "outputs": [
    {
     "data": {
      "text/plain": [
       "   ID do Cliente  Frequencia\n",
       "5          12352          11\n",
       "1          12347           7\n",
       "2          12348           4\n",
       "9          12356           3\n",
       "0          12346           2\n",
       "3          12349           1\n",
       "4          12350           1\n",
       "6          12353           1\n",
       "7          12354           1\n",
       "8          12355           1"
      ],
      "text/html": [
       "<div>\n",
       "<style scoped>\n",
       "    .dataframe tbody tr th:only-of-type {\n",
       "        vertical-align: middle;\n",
       "    }\n",
       "\n",
       "    .dataframe tbody tr th {\n",
       "        vertical-align: top;\n",
       "    }\n",
       "\n",
       "    .dataframe thead th {\n",
       "        text-align: right;\n",
       "    }\n",
       "</style>\n",
       "<table border=\"1\" class=\"dataframe\">\n",
       "  <thead>\n",
       "    <tr style=\"text-align: right;\">\n",
       "      <th></th>\n",
       "      <th>ID do Cliente</th>\n",
       "      <th>Frequencia</th>\n",
       "    </tr>\n",
       "  </thead>\n",
       "  <tbody>\n",
       "    <tr>\n",
       "      <th>5</th>\n",
       "      <td>12352</td>\n",
       "      <td>11</td>\n",
       "    </tr>\n",
       "    <tr>\n",
       "      <th>1</th>\n",
       "      <td>12347</td>\n",
       "      <td>7</td>\n",
       "    </tr>\n",
       "    <tr>\n",
       "      <th>2</th>\n",
       "      <td>12348</td>\n",
       "      <td>4</td>\n",
       "    </tr>\n",
       "    <tr>\n",
       "      <th>9</th>\n",
       "      <td>12356</td>\n",
       "      <td>3</td>\n",
       "    </tr>\n",
       "    <tr>\n",
       "      <th>0</th>\n",
       "      <td>12346</td>\n",
       "      <td>2</td>\n",
       "    </tr>\n",
       "    <tr>\n",
       "      <th>3</th>\n",
       "      <td>12349</td>\n",
       "      <td>1</td>\n",
       "    </tr>\n",
       "    <tr>\n",
       "      <th>4</th>\n",
       "      <td>12350</td>\n",
       "      <td>1</td>\n",
       "    </tr>\n",
       "    <tr>\n",
       "      <th>6</th>\n",
       "      <td>12353</td>\n",
       "      <td>1</td>\n",
       "    </tr>\n",
       "    <tr>\n",
       "      <th>7</th>\n",
       "      <td>12354</td>\n",
       "      <td>1</td>\n",
       "    </tr>\n",
       "    <tr>\n",
       "      <th>8</th>\n",
       "      <td>12355</td>\n",
       "      <td>1</td>\n",
       "    </tr>\n",
       "  </tbody>\n",
       "</table>\n",
       "</div>"
      ]
     },
     "execution_count": 24,
     "metadata": {},
     "output_type": "execute_result"
    }
   ],
   "execution_count": 24
  },
  {
   "metadata": {
    "ExecuteTime": {
     "end_time": "2025-10-18T11:44:07.786325Z",
     "start_time": "2025-10-18T11:44:07.520240Z"
    }
   },
   "cell_type": "code",
   "source": [
    "frequencia = dados.groupby('ID do Cliente')['Número da Fatura'].nunique().reset_index()\n",
    "frequencia.columns = ['ID do Cliente', 'Frequencia']\n",
    "\n",
    "# Adicionar ao DataFrame principal\n",
    "dados = dados.merge(frequencia, on='ID do Cliente', how='left')\n"
   ],
   "id": "f2aec273cc95dcca",
   "outputs": [],
   "execution_count": 25
  },
  {
   "metadata": {
    "ExecuteTime": {
     "end_time": "2025-10-18T11:44:07.823648Z",
     "start_time": "2025-10-18T11:44:07.799297Z"
    }
   },
   "cell_type": "code",
   "source": "dados.head()",
   "id": "9d3805f0460aaecd",
   "outputs": [
    {
     "data": {
      "text/plain": [
       "  Número da Fatura Código do Produto                            Descrição  \\\n",
       "0           536365            85123A   WHITE HANGING HEART T-LIGHT HOLDER   \n",
       "1           536365             71053                  WHITE METAL LANTERN   \n",
       "2           536365            84406B       CREAM CUPID HEARTS COAT HANGER   \n",
       "3           536365            84029G  KNITTED UNION FLAG HOT WATER BOTTLE   \n",
       "4           536365            84029E       RED WOOLLY HOTTIE WHITE HEART.   \n",
       "\n",
       "   Quantidade      Data da Fatura  Preço Unitário  ID do Cliente  \\\n",
       "0           6 2010-12-01 08:26:00            2.55          17850   \n",
       "1           6 2010-12-01 08:26:00            3.39          17850   \n",
       "2           8 2010-12-01 08:26:00            2.75          17850   \n",
       "3           6 2010-12-01 08:26:00            3.39          17850   \n",
       "4           6 2010-12-01 08:26:00            3.39          17850   \n",
       "\n",
       "             País  Devolução  Recencia  Frequencia  \n",
       "0  United Kingdom      False       302          35  \n",
       "1  United Kingdom      False       302          35  \n",
       "2  United Kingdom      False       302          35  \n",
       "3  United Kingdom      False       302          35  \n",
       "4  United Kingdom      False       302          35  "
      ],
      "text/html": [
       "<div>\n",
       "<style scoped>\n",
       "    .dataframe tbody tr th:only-of-type {\n",
       "        vertical-align: middle;\n",
       "    }\n",
       "\n",
       "    .dataframe tbody tr th {\n",
       "        vertical-align: top;\n",
       "    }\n",
       "\n",
       "    .dataframe thead th {\n",
       "        text-align: right;\n",
       "    }\n",
       "</style>\n",
       "<table border=\"1\" class=\"dataframe\">\n",
       "  <thead>\n",
       "    <tr style=\"text-align: right;\">\n",
       "      <th></th>\n",
       "      <th>Número da Fatura</th>\n",
       "      <th>Código do Produto</th>\n",
       "      <th>Descrição</th>\n",
       "      <th>Quantidade</th>\n",
       "      <th>Data da Fatura</th>\n",
       "      <th>Preço Unitário</th>\n",
       "      <th>ID do Cliente</th>\n",
       "      <th>País</th>\n",
       "      <th>Devolução</th>\n",
       "      <th>Recencia</th>\n",
       "      <th>Frequencia</th>\n",
       "    </tr>\n",
       "  </thead>\n",
       "  <tbody>\n",
       "    <tr>\n",
       "      <th>0</th>\n",
       "      <td>536365</td>\n",
       "      <td>85123A</td>\n",
       "      <td>WHITE HANGING HEART T-LIGHT HOLDER</td>\n",
       "      <td>6</td>\n",
       "      <td>2010-12-01 08:26:00</td>\n",
       "      <td>2.55</td>\n",
       "      <td>17850</td>\n",
       "      <td>United Kingdom</td>\n",
       "      <td>False</td>\n",
       "      <td>302</td>\n",
       "      <td>35</td>\n",
       "    </tr>\n",
       "    <tr>\n",
       "      <th>1</th>\n",
       "      <td>536365</td>\n",
       "      <td>71053</td>\n",
       "      <td>WHITE METAL LANTERN</td>\n",
       "      <td>6</td>\n",
       "      <td>2010-12-01 08:26:00</td>\n",
       "      <td>3.39</td>\n",
       "      <td>17850</td>\n",
       "      <td>United Kingdom</td>\n",
       "      <td>False</td>\n",
       "      <td>302</td>\n",
       "      <td>35</td>\n",
       "    </tr>\n",
       "    <tr>\n",
       "      <th>2</th>\n",
       "      <td>536365</td>\n",
       "      <td>84406B</td>\n",
       "      <td>CREAM CUPID HEARTS COAT HANGER</td>\n",
       "      <td>8</td>\n",
       "      <td>2010-12-01 08:26:00</td>\n",
       "      <td>2.75</td>\n",
       "      <td>17850</td>\n",
       "      <td>United Kingdom</td>\n",
       "      <td>False</td>\n",
       "      <td>302</td>\n",
       "      <td>35</td>\n",
       "    </tr>\n",
       "    <tr>\n",
       "      <th>3</th>\n",
       "      <td>536365</td>\n",
       "      <td>84029G</td>\n",
       "      <td>KNITTED UNION FLAG HOT WATER BOTTLE</td>\n",
       "      <td>6</td>\n",
       "      <td>2010-12-01 08:26:00</td>\n",
       "      <td>3.39</td>\n",
       "      <td>17850</td>\n",
       "      <td>United Kingdom</td>\n",
       "      <td>False</td>\n",
       "      <td>302</td>\n",
       "      <td>35</td>\n",
       "    </tr>\n",
       "    <tr>\n",
       "      <th>4</th>\n",
       "      <td>536365</td>\n",
       "      <td>84029E</td>\n",
       "      <td>RED WOOLLY HOTTIE WHITE HEART.</td>\n",
       "      <td>6</td>\n",
       "      <td>2010-12-01 08:26:00</td>\n",
       "      <td>3.39</td>\n",
       "      <td>17850</td>\n",
       "      <td>United Kingdom</td>\n",
       "      <td>False</td>\n",
       "      <td>302</td>\n",
       "      <td>35</td>\n",
       "    </tr>\n",
       "  </tbody>\n",
       "</table>\n",
       "</div>"
      ]
     },
     "execution_count": 26,
     "metadata": {},
     "output_type": "execute_result"
    }
   ],
   "execution_count": 26
  },
  {
   "metadata": {},
   "cell_type": "markdown",
   "source": "## **Valor Monetário (M): Qual foi o valor total gasto pelo cliente?**",
   "id": "ca3b49018205a6f1"
  },
  {
   "metadata": {
    "ExecuteTime": {
     "end_time": "2025-10-18T11:44:07.914609Z",
     "start_time": "2025-10-18T11:44:07.860489Z"
    }
   },
   "cell_type": "code",
   "source": [
    "# Remover linhas onde Quantidade é zero\n",
    "dados = dados[(dados['Quantidade'] != 0) & (dados['Quantidade'].notnull())]"
   ],
   "id": "ff094644d0c6d309",
   "outputs": [],
   "execution_count": 27
  },
  {
   "metadata": {
    "ExecuteTime": {
     "end_time": "2025-10-18T11:44:08.083809Z",
     "start_time": "2025-10-18T11:44:07.926443Z"
    }
   },
   "cell_type": "code",
   "source": [
    "# Criar uma nova coluna para o valor total de cada linha (Quantidade * Preço Unitário)\n",
    "dados['Preço Total'] = dados['Quantidade'] * dados['Preço Unitário'].round(2)\n",
    "\n",
    "# Agrupar por cliente e somar o valor total gasto\n",
    "valor_monetario = dados.groupby('ID do Cliente')['Preço Total'].sum().reset_index()\n",
    "valor_monetario.columns = ['ID do Cliente', 'Valor Monetário']\n",
    "\n",
    "\n",
    "dados = dados.merge(valor_monetario, on='ID do Cliente', how='left')\n",
    "\n",
    "valor_monetario.head(10).sort_values(by='Valor Monetário', ascending=False)"
   ],
   "id": "23b8a057c2e6bf9b",
   "outputs": [
    {
     "data": {
      "text/plain": [
       "   ID do Cliente  Valor Monetário\n",
       "0          12346         77183.60\n",
       "1          12347          4310.00\n",
       "9          12356          2811.43\n",
       "5          12352          2506.04\n",
       "2          12348          1797.24\n",
       "3          12349          1757.55\n",
       "7          12354          1079.40\n",
       "8          12355           459.40\n",
       "4          12350           334.40\n",
       "6          12353            89.00"
      ],
      "text/html": [
       "<div>\n",
       "<style scoped>\n",
       "    .dataframe tbody tr th:only-of-type {\n",
       "        vertical-align: middle;\n",
       "    }\n",
       "\n",
       "    .dataframe tbody tr th {\n",
       "        vertical-align: top;\n",
       "    }\n",
       "\n",
       "    .dataframe thead th {\n",
       "        text-align: right;\n",
       "    }\n",
       "</style>\n",
       "<table border=\"1\" class=\"dataframe\">\n",
       "  <thead>\n",
       "    <tr style=\"text-align: right;\">\n",
       "      <th></th>\n",
       "      <th>ID do Cliente</th>\n",
       "      <th>Valor Monetário</th>\n",
       "    </tr>\n",
       "  </thead>\n",
       "  <tbody>\n",
       "    <tr>\n",
       "      <th>0</th>\n",
       "      <td>12346</td>\n",
       "      <td>77183.60</td>\n",
       "    </tr>\n",
       "    <tr>\n",
       "      <th>1</th>\n",
       "      <td>12347</td>\n",
       "      <td>4310.00</td>\n",
       "    </tr>\n",
       "    <tr>\n",
       "      <th>9</th>\n",
       "      <td>12356</td>\n",
       "      <td>2811.43</td>\n",
       "    </tr>\n",
       "    <tr>\n",
       "      <th>5</th>\n",
       "      <td>12352</td>\n",
       "      <td>2506.04</td>\n",
       "    </tr>\n",
       "    <tr>\n",
       "      <th>2</th>\n",
       "      <td>12348</td>\n",
       "      <td>1797.24</td>\n",
       "    </tr>\n",
       "    <tr>\n",
       "      <th>3</th>\n",
       "      <td>12349</td>\n",
       "      <td>1757.55</td>\n",
       "    </tr>\n",
       "    <tr>\n",
       "      <th>7</th>\n",
       "      <td>12354</td>\n",
       "      <td>1079.40</td>\n",
       "    </tr>\n",
       "    <tr>\n",
       "      <th>8</th>\n",
       "      <td>12355</td>\n",
       "      <td>459.40</td>\n",
       "    </tr>\n",
       "    <tr>\n",
       "      <th>4</th>\n",
       "      <td>12350</td>\n",
       "      <td>334.40</td>\n",
       "    </tr>\n",
       "    <tr>\n",
       "      <th>6</th>\n",
       "      <td>12353</td>\n",
       "      <td>89.00</td>\n",
       "    </tr>\n",
       "  </tbody>\n",
       "</table>\n",
       "</div>"
      ]
     },
     "execution_count": 28,
     "metadata": {},
     "output_type": "execute_result"
    }
   ],
   "execution_count": 28
  },
  {
   "metadata": {
    "ExecuteTime": {
     "end_time": "2025-10-18T11:44:08.123214Z",
     "start_time": "2025-10-18T11:44:08.101140Z"
    }
   },
   "cell_type": "code",
   "source": "dados.head()",
   "id": "6cefb93327953d35",
   "outputs": [
    {
     "data": {
      "text/plain": [
       "  Número da Fatura Código do Produto                            Descrição  \\\n",
       "0           536365            85123A   WHITE HANGING HEART T-LIGHT HOLDER   \n",
       "1           536365             71053                  WHITE METAL LANTERN   \n",
       "2           536365            84406B       CREAM CUPID HEARTS COAT HANGER   \n",
       "3           536365            84029G  KNITTED UNION FLAG HOT WATER BOTTLE   \n",
       "4           536365            84029E       RED WOOLLY HOTTIE WHITE HEART.   \n",
       "\n",
       "   Quantidade      Data da Fatura  Preço Unitário  ID do Cliente  \\\n",
       "0           6 2010-12-01 08:26:00            2.55          17850   \n",
       "1           6 2010-12-01 08:26:00            3.39          17850   \n",
       "2           8 2010-12-01 08:26:00            2.75          17850   \n",
       "3           6 2010-12-01 08:26:00            3.39          17850   \n",
       "4           6 2010-12-01 08:26:00            3.39          17850   \n",
       "\n",
       "             País  Devolução  Recencia  Frequencia  Preço Total  \\\n",
       "0  United Kingdom      False       302          35        15.30   \n",
       "1  United Kingdom      False       302          35        20.34   \n",
       "2  United Kingdom      False       302          35        22.00   \n",
       "3  United Kingdom      False       302          35        20.34   \n",
       "4  United Kingdom      False       302          35        20.34   \n",
       "\n",
       "   Valor Monetário  \n",
       "0          5391.21  \n",
       "1          5391.21  \n",
       "2          5391.21  \n",
       "3          5391.21  \n",
       "4          5391.21  "
      ],
      "text/html": [
       "<div>\n",
       "<style scoped>\n",
       "    .dataframe tbody tr th:only-of-type {\n",
       "        vertical-align: middle;\n",
       "    }\n",
       "\n",
       "    .dataframe tbody tr th {\n",
       "        vertical-align: top;\n",
       "    }\n",
       "\n",
       "    .dataframe thead th {\n",
       "        text-align: right;\n",
       "    }\n",
       "</style>\n",
       "<table border=\"1\" class=\"dataframe\">\n",
       "  <thead>\n",
       "    <tr style=\"text-align: right;\">\n",
       "      <th></th>\n",
       "      <th>Número da Fatura</th>\n",
       "      <th>Código do Produto</th>\n",
       "      <th>Descrição</th>\n",
       "      <th>Quantidade</th>\n",
       "      <th>Data da Fatura</th>\n",
       "      <th>Preço Unitário</th>\n",
       "      <th>ID do Cliente</th>\n",
       "      <th>País</th>\n",
       "      <th>Devolução</th>\n",
       "      <th>Recencia</th>\n",
       "      <th>Frequencia</th>\n",
       "      <th>Preço Total</th>\n",
       "      <th>Valor Monetário</th>\n",
       "    </tr>\n",
       "  </thead>\n",
       "  <tbody>\n",
       "    <tr>\n",
       "      <th>0</th>\n",
       "      <td>536365</td>\n",
       "      <td>85123A</td>\n",
       "      <td>WHITE HANGING HEART T-LIGHT HOLDER</td>\n",
       "      <td>6</td>\n",
       "      <td>2010-12-01 08:26:00</td>\n",
       "      <td>2.55</td>\n",
       "      <td>17850</td>\n",
       "      <td>United Kingdom</td>\n",
       "      <td>False</td>\n",
       "      <td>302</td>\n",
       "      <td>35</td>\n",
       "      <td>15.30</td>\n",
       "      <td>5391.21</td>\n",
       "    </tr>\n",
       "    <tr>\n",
       "      <th>1</th>\n",
       "      <td>536365</td>\n",
       "      <td>71053</td>\n",
       "      <td>WHITE METAL LANTERN</td>\n",
       "      <td>6</td>\n",
       "      <td>2010-12-01 08:26:00</td>\n",
       "      <td>3.39</td>\n",
       "      <td>17850</td>\n",
       "      <td>United Kingdom</td>\n",
       "      <td>False</td>\n",
       "      <td>302</td>\n",
       "      <td>35</td>\n",
       "      <td>20.34</td>\n",
       "      <td>5391.21</td>\n",
       "    </tr>\n",
       "    <tr>\n",
       "      <th>2</th>\n",
       "      <td>536365</td>\n",
       "      <td>84406B</td>\n",
       "      <td>CREAM CUPID HEARTS COAT HANGER</td>\n",
       "      <td>8</td>\n",
       "      <td>2010-12-01 08:26:00</td>\n",
       "      <td>2.75</td>\n",
       "      <td>17850</td>\n",
       "      <td>United Kingdom</td>\n",
       "      <td>False</td>\n",
       "      <td>302</td>\n",
       "      <td>35</td>\n",
       "      <td>22.00</td>\n",
       "      <td>5391.21</td>\n",
       "    </tr>\n",
       "    <tr>\n",
       "      <th>3</th>\n",
       "      <td>536365</td>\n",
       "      <td>84029G</td>\n",
       "      <td>KNITTED UNION FLAG HOT WATER BOTTLE</td>\n",
       "      <td>6</td>\n",
       "      <td>2010-12-01 08:26:00</td>\n",
       "      <td>3.39</td>\n",
       "      <td>17850</td>\n",
       "      <td>United Kingdom</td>\n",
       "      <td>False</td>\n",
       "      <td>302</td>\n",
       "      <td>35</td>\n",
       "      <td>20.34</td>\n",
       "      <td>5391.21</td>\n",
       "    </tr>\n",
       "    <tr>\n",
       "      <th>4</th>\n",
       "      <td>536365</td>\n",
       "      <td>84029E</td>\n",
       "      <td>RED WOOLLY HOTTIE WHITE HEART.</td>\n",
       "      <td>6</td>\n",
       "      <td>2010-12-01 08:26:00</td>\n",
       "      <td>3.39</td>\n",
       "      <td>17850</td>\n",
       "      <td>United Kingdom</td>\n",
       "      <td>False</td>\n",
       "      <td>302</td>\n",
       "      <td>35</td>\n",
       "      <td>20.34</td>\n",
       "      <td>5391.21</td>\n",
       "    </tr>\n",
       "  </tbody>\n",
       "</table>\n",
       "</div>"
      ]
     },
     "execution_count": 29,
     "metadata": {},
     "output_type": "execute_result"
    }
   ],
   "execution_count": 29
  },
  {
   "metadata": {
    "ExecuteTime": {
     "end_time": "2025-10-18T11:44:13.389738Z",
     "start_time": "2025-10-18T11:44:09.545677Z"
    }
   },
   "cell_type": "code",
   "source": [
    "# Visualização: Boxplot para a coluna 'Preço Unitário'\n",
    "\n",
    "plt.figure(figsize=(15, 5))\n",
    "sns.boxplot(x=dados['Preço Unitário'], color='gray')\n",
    "plt.title('Boxplot do Preço Unitário', fontsize=14, color='gray')\n",
    "plt.xlabel('Preço Unitário')\n",
    "plt.show()"
   ],
   "id": "70cf65d9b4b01c42",
   "outputs": [
    {
     "data": {
      "text/plain": [
       "<Figure size 1500x500 with 1 Axes>"
      ],
      "image/png": "[encoded data removed]"
     },
     "metadata": {},
     "output_type": "display_data",
     "jetTransient": {
      "display_id": null
     }
    }
   ],
   "execution_count": 30
  },
  {
   "metadata": {},
   "cell_type": "markdown",
   "source": "## **Detectando outliers com IQR (Intervalo Interquartil)**",
   "id": "80dc04edadaf816"
  },
  {
   "metadata": {
    "ExecuteTime": {
     "end_time": "2025-10-18T11:44:14.237952Z",
     "start_time": "2025-10-18T11:44:14.170799Z"
    }
   },
   "cell_type": "code",
   "source": [
    "# Detectar outliers com IQR (Intervalo Interquartil)\n",
    "Q1 = dados['Preço Unitário'].quantile(0.25)\n",
    "Q3 = dados['Preço Unitário'].quantile(0.75)\n",
    "IQR = Q3 - Q1\n",
    "\n",
    "limite_inferior = Q1 - 1.5 * IQR\n",
    "limite_superior = Q3 + 1.5 * IQR\n",
    "\n",
    "outliers = dados[(dados['Preço Unitário'] < limite_inferior) | (dados['Preço Unitário'] > limite_superior)]\n",
    "print(f'Total de outliers: {len(outliers)}')"
   ],
   "id": "794fd31ffa3a97f9",
   "outputs": [
    {
     "name": "stdout",
     "output_type": "stream",
     "text": [
      "Total de outliers: 34356\n"
     ]
    }
   ],
   "execution_count": 31
  },
  {
   "metadata": {},
   "cell_type": "markdown",
   "source": "## **Excluindo os outliers**",
   "id": "b699ee6af408f670"
  },
  {
   "metadata": {
    "ExecuteTime": {
     "end_time": "2025-10-18T11:44:14.379386Z",
     "start_time": "2025-10-18T11:44:14.272602Z"
    }
   },
   "cell_type": "code",
   "source": [
    "dados_sem_outliers = dados[(dados['Preço Unitário'] >= limite_inferior) & (dados['Preço Unitário'] <= limite_superior)]\n",
    "\n",
    "dados['Preço Unitário'].describe()"
   ],
   "id": "73e35d9533fb7628",
   "outputs": [
    {
     "data": {
      "text/plain": [
       "count    397924.000000\n",
       "mean          3.116174\n",
       "std          22.096788\n",
       "min           0.000000\n",
       "25%           1.250000\n",
       "50%           1.950000\n",
       "75%           3.750000\n",
       "max        8142.750000\n",
       "Name: Preço Unitário, dtype: float64"
      ]
     },
     "execution_count": 32,
     "metadata": {},
     "output_type": "execute_result"
    }
   ],
   "execution_count": 32
  },
  {
   "metadata": {},
   "cell_type": "markdown",
   "source": "## **Criação de boxplot para a coluna 'Preço Total'**",
   "id": "64283b059c9b0a09"
  },
  {
   "metadata": {
    "ExecuteTime": {
     "end_time": "2025-10-18T11:44:15.300324Z",
     "start_time": "2025-10-18T11:44:14.420006Z"
    }
   },
   "cell_type": "code",
   "source": [
    "# Visualização: Boxplot para a coluna 'Preço Unitário' sem outliers\n",
    "plt.figure(figsize=(15, 5))\n",
    "sns.boxplot(x=dados['Preço Total'], color='gray')\n",
    "plt.title('Boxplot do Preço Total', fontsize=14, color='gray')\n",
    "plt.xlabel('Preço Total')\n",
    "plt.show()"
   ],
   "id": "4d334e98b7f674ea",
   "outputs": [
    {
     "data": {
      "text/plain": [
       "<Figure size 1500x500 with 1 Axes>"
      ],
      "image/png": "[encoded data removed]"
     },
     "metadata": {},
     "output_type": "display_data",
     "jetTransient": {
      "display_id": null
     }
    }
   ],
   "execution_count": 33
  },
  {
   "metadata": {
    "ExecuteTime": {
     "end_time": "2025-10-18T11:44:15.370590Z",
     "start_time": "2025-10-18T11:44:15.330739Z"
    }
   },
   "cell_type": "code",
   "source": [
    "# Detectar outliers com IQR (Intervalo Interquartil)\n",
    "Q1 = dados['Preço Total'].quantile(0.25)\n",
    "Q3 = dados['Preço Total'].quantile(0.75)\n",
    "IQR = Q3 - Q1\n",
    "\n",
    "limite_inferior = Q1 - 1.5 * IQR\n",
    "limite_superior = Q3 + 1.5 * IQR\n",
    "\n",
    "outliers = dados[(dados['Preço Total'] < limite_inferior) | (dados['Preço Total'] > limite_superior)]\n",
    "print(f'Total de outliers: {len(outliers)}')"
   ],
   "id": "519b7f4dd537630c",
   "outputs": [
    {
     "name": "stdout",
     "output_type": "stream",
     "text": [
      "Total de outliers: 31241\n"
     ]
    }
   ],
   "execution_count": 34
  },
  {
   "metadata": {},
   "cell_type": "markdown",
   "source": "## **Eliminando os outliers (se for o caso)**",
   "id": "60340096192c68d2"
  },
  {
   "metadata": {
    "ExecuteTime": {
     "end_time": "2025-10-18T11:44:15.486748Z",
     "start_time": "2025-10-18T11:44:15.411590Z"
    }
   },
   "cell_type": "code",
   "source": [
    "dados_sem_outliers1 = dados[(dados['Preço Total'] >= limite_inferior) & (dados['Preço Total'] <= limite_superior)]\n",
    "\n",
    "dados['Preço Total'].describe()"
   ],
   "id": "d957ed5b779c4fc5",
   "outputs": [
    {
     "data": {
      "text/plain": [
       "count    397924.000000\n",
       "mean         22.394748\n",
       "std         309.055588\n",
       "min           0.000000\n",
       "25%           4.680000\n",
       "50%          11.800000\n",
       "75%          19.800000\n",
       "max      168469.600000\n",
       "Name: Preço Total, dtype: float64"
      ]
     },
     "execution_count": 35,
     "metadata": {},
     "output_type": "execute_result"
    }
   ],
   "execution_count": 35
  },
  {
   "metadata": {},
   "cell_type": "markdown",
   "source": "# **2- Segmentação e Pontuação (Scoring)**",
   "id": "2ef85cc3ed084d2b"
  },
  {
   "metadata": {},
   "cell_type": "markdown",
   "source": "## **Transformando os valores de RFM em pontuações para criar os segmentos. Usando quantis para dividir cada métrica (R, F e M) em quartis (4 grupos).**",
   "id": "1795dd2281d7f8bd"
  },
  {
   "metadata": {},
   "cell_type": "markdown",
   "source": "Crie as pontuações: Crie colunas R_score, F_score, M_score.",
   "id": "d98e810a801c7777"
  },
  {
   "metadata": {
    "ExecuteTime": {
     "end_time": "2025-10-18T11:44:15.559256Z",
     "start_time": "2025-10-18T11:44:15.531762Z"
    }
   },
   "cell_type": "code",
   "source": [
    "# Pontuação de Recência (quanto menor, melhor)\n",
    "# Usando pd.qcut() para dividir em 4 grupos (quartis)\n",
    "\n",
    "dados['R_score'] = pd.qcut(ultima_compra['Recencia'], 4, labels=[4, 3, 2, 1])"
   ],
   "id": "d7eac3846bd14e89",
   "outputs": [],
   "execution_count": 36
  },
  {
   "metadata": {
    "ExecuteTime": {
     "end_time": "2025-10-18T11:44:15.586659Z",
     "start_time": "2025-10-18T11:44:15.575655Z"
    }
   },
   "cell_type": "code",
   "source": "print(dados['R_score'].value_counts().sort_index())",
   "id": "4c32e8e862cf4334",
   "outputs": [
    {
     "name": "stdout",
     "output_type": "stream",
     "text": [
      "R_score\n",
      "4    1131\n",
      "3    1074\n",
      "2    1079\n",
      "1    1088\n",
      "Name: count, dtype: int64\n"
     ]
    }
   ],
   "execution_count": 37
  },
  {
   "metadata": {
    "ExecuteTime": {
     "end_time": "2025-10-18T11:44:15.806620Z",
     "start_time": "2025-10-18T11:44:15.723679Z"
    }
   },
   "cell_type": "code",
   "source": [
    "# Pontuação de Frequência (quanto maior, melhor)\n",
    "# Usando rank(method='first') para evitar problemas com valores idênticos\n",
    "dados['F_score'] = pd.qcut(dados['Frequencia'].rank(method='first'), 4, labels=[1, 2, 3, 4])\n",
    "\n",
    "# Visualizar a distribuição das pontuações\n",
    "print(dados['F_score'].value_counts().sort_index())"
   ],
   "id": "f8585296ce6e36",
   "outputs": [
    {
     "name": "stdout",
     "output_type": "stream",
     "text": [
      "F_score\n",
      "1    99481\n",
      "2    99481\n",
      "3    99481\n",
      "4    99481\n",
      "Name: count, dtype: int64\n"
     ]
    }
   ],
   "execution_count": 38
  },
  {
   "metadata": {
    "ExecuteTime": {
     "end_time": "2025-10-18T11:44:15.912875Z",
     "start_time": "2025-10-18T11:44:15.848316Z"
    }
   },
   "cell_type": "code",
   "source": [
    "# Pontuação de Valor Monetário (quanto maior, melhor)\n",
    "# Usando rank(method='first') para evitar problemas com valores idênticos\n",
    "dados['M_score'] = pd.qcut(dados['Valor Monetário'].rank(method='first'), 4, labels=[1, 2, 3, 4])\n",
    "\n",
    "# Visualizar a distribuição das pontuações\n",
    "print(dados['M_score'].value_counts().sort_index())"
   ],
   "id": "d5fd74d5d6d71023",
   "outputs": [
    {
     "name": "stdout",
     "output_type": "stream",
     "text": [
      "M_score\n",
      "1    99481\n",
      "2    99481\n",
      "3    99481\n",
      "4    99481\n",
      "Name: count, dtype: int64\n"
     ]
    }
   ],
   "execution_count": 39
  },
  {
   "metadata": {},
   "cell_type": "markdown",
   "source": "## **Criando uma coluna RFM_Score concatenando as pontuações (ex: um cliente com pontuação 4 em R, 4 em F e 4 em M teria um RFM_Score de '444').**",
   "id": "e79efcbb0614e840"
  },
  {
   "metadata": {
    "ExecuteTime": {
     "end_time": "2025-10-18T11:44:16.200904Z",
     "start_time": "2025-10-18T11:44:15.930678Z"
    }
   },
   "cell_type": "code",
   "source": [
    "# Concatenar as pontuações para formar o RFM_Score\n",
    "# Convertendo para string para evitar problemas de concatenação\n",
    "dados['RFM_Score'] = dados['R_score'].astype(str) + dados['F_score'].astype(str) + dados['M_score'].astype(str)\n",
    "\n",
    "# Visualizar os primeiros registros com as novas colunas\n",
    "print(dados[['ID do Cliente', 'R_score', 'F_score', 'M_score', 'RFM_Score']].head())"
   ],
   "id": "715b1cf29455227e",
   "outputs": [
    {
     "name": "stdout",
     "output_type": "stream",
     "text": [
      "   ID do Cliente R_score F_score M_score RFM_Score\n",
      "0          17850       1       4       3       143\n",
      "1          17850       4       4       3       443\n",
      "2          17850       2       4       3       243\n",
      "3          17850       3       4       3       343\n",
      "4          17850       1       4       3       143\n"
     ]
    }
   ],
   "execution_count": 40
  },
  {
   "metadata": {},
   "cell_type": "markdown",
   "source": "## **Criando lógica de segmentação RFM**",
   "id": "948a19d196c081c4"
  },
  {
   "metadata": {
    "ExecuteTime": {
     "end_time": "2025-10-18T11:44:16.576580Z",
     "start_time": "2025-10-18T11:44:16.233740Z"
    }
   },
   "cell_type": "code",
   "source": [
    "# Função para mapear RFM_Score para segmentos\n",
    "def nome_segmento(rfm_score):\n",
    "    if rfm_score in ['444', '443', '344']:\n",
    "        return 'Campeões'\n",
    "    elif rfm_score in ['111', '112', '121']:\n",
    "        return 'Hibernando'\n",
    "    elif rfm_score in ['411', '412']:\n",
    "        return 'Novos Clientes'\n",
    "    elif rfm_score in ['144', '244']:\n",
    "        return 'Fiéis'\n",
    "    elif rfm_score in ['331', '321', '231']:\n",
    "        return 'Clientes em Risco'\n",
    "    elif rfm_score in ['133', '233', '132']:\n",
    "        return 'Clientes em Recuperação'\n",
    "    elif rfm_score in ['314', '324', '414']:\n",
    "        return 'Potenciais Fiéis'\n",
    "    elif rfm_score in ['141', '241', '341']:\n",
    "        return 'Necessitam Estímulo'\n",
    "    elif rfm_score in ['222', '223', '322']:\n",
    "        return 'Clientes Regulares'\n",
    "    elif rfm_score in ['434', '334', '344']:\n",
    "        return 'Clientes Valiosos Recentes'\n",
    "    else:\n",
    "        return 'Outros'\n",
    "\n",
    "# Aplicar a função para criar a coluna 'Segmento'\n",
    "dados['Segmento'] = dados['RFM_Score'].apply(nome_segmento)\n",
    "\n",
    "# Visualizar os segmentos\n",
    "print(dados[['ID do Cliente', 'RFM_Score', 'Segmento']].head(10))"
   ],
   "id": "ac4a8287903ca3ee",
   "outputs": [
    {
     "name": "stdout",
     "output_type": "stream",
     "text": [
      "   ID do Cliente RFM_Score  Segmento\n",
      "0          17850       143    Outros\n",
      "1          17850       443  Campeões\n",
      "2          17850       243    Outros\n",
      "3          17850       343    Outros\n",
      "4          17850       143    Outros\n",
      "5          17850       343    Outros\n",
      "6          17850       143    Outros\n",
      "7          17850       143    Outros\n",
      "8          17850       143    Outros\n",
      "9          13047       333    Outros\n"
     ]
    }
   ],
   "execution_count": 41
  },
  {
   "metadata": {},
   "cell_type": "markdown",
   "source": "## **Contando clientes por grupo**",
   "id": "2ab9cc094d2dccc9"
  },
  {
   "metadata": {
    "ExecuteTime": {
     "end_time": "2025-10-18T11:44:16.663003Z",
     "start_time": "2025-10-18T11:44:16.611875Z"
    }
   },
   "cell_type": "code",
   "source": "dados['Segmento'].value_counts()",
   "id": "757ff5a51473e8d1",
   "outputs": [
    {
     "data": {
      "text/plain": [
       "Segmento\n",
       "Outros                        395765\n",
       "Hibernando                       496\n",
       "Novos Clientes                   464\n",
       "Campeões                         378\n",
       "Fiéis                            269\n",
       "Clientes em Recuperação          250\n",
       "Clientes Regulares               133\n",
       "Clientes em Risco                 89\n",
       "Clientes Valiosos Recentes        58\n",
       "Potenciais Fiéis                  22\n",
       "Name: count, dtype: int64"
      ]
     },
     "execution_count": 42,
     "metadata": {},
     "output_type": "execute_result"
    }
   ],
   "execution_count": 42
  },
  {
   "metadata": {},
   "cell_type": "markdown",
   "source": "## **Criando Grafico de Barras para visualizar a distribuição dos segmentos RFM**",
   "id": "63510f2b3bd8ae63"
  },
  {
   "metadata": {
    "ExecuteTime": {
     "end_time": "2025-10-18T11:44:22.301592Z",
     "start_time": "2025-10-18T11:44:17.119137Z"
    }
   },
   "cell_type": "code",
   "source": [
    "# Exportar o DataFrame completo para CSV\n",
    "dados.to_csv('Online_Retail_rfm.csv', index=False, float_format='%.2f')"
   ],
   "id": "e9e7fab6261b3993",
   "outputs": [],
   "execution_count": 44
  }
 ],
 "metadata": {
  "kernelspec": {
   "display_name": "Python 3",
   "language": "python",
   "name": "python3"
  },
  "language_info": {
   "codemirror_mode": {
    "name": "ipython",
    "version": 2
   },
   "file_extension": ".py",
   "mimetype": "text/x-python",
   "name": "python",
   "nbconvert_exporter": "python",
   "pygments_lexer": "ipython2",
   "version": "2.7.6"
  }
 },
 "nbformat": 4,
 "nbformat_minor": 5
}
